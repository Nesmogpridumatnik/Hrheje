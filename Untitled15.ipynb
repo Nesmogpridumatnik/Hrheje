{
  "nbformat": 4,
  "nbformat_minor": 0,
  "metadata": {
    "colab": {
      "provenance": []
    },
    "kernelspec": {
      "name": "python3",
      "display_name": "Python 3"
    },
    "language_info": {
      "name": "python"
    }
  },
  "cells": [
    {
      "cell_type": "code",
      "execution_count": null,
      "metadata": {
        "id": "mBydTocTbb36"
      },
      "outputs": [],
      "source": [
        "import zipfile\n",
        "\n",
        "import numpy as np\n",
        "import pandas as pd\n",
        "from scipy.sparse import diags\n",
        "from scipy.sparse.linalg import svds\n",
        "from tqdm import tqdm\n",
        "from scipy.sparse import csr_matrix\n",
        "import matplotlib as plt"
      ]
    },
    {
      "cell_type": "code",
      "source": [
        "def to_numeric_id(data, field):\n",
        "    idx_data = data[field].astype(\"category\")\n",
        "    idx = idx_data.cat.codes\n",
        "    idx_map = idx_data.cat.categories.rename(field)\n",
        "    return idx, idx_map\n",
        "\n",
        "def transform_indices(data, users, items):\n",
        "    data_index = {}\n",
        "    for entity, field in zip(['users', 'items'], [users, items]):\n",
        "        new_index, data_index[entity] = to_numeric_id(data, field)\n",
        "        data = data.assign(**{f'{field}': new_index}) # makes a copy of dataset!\n",
        "    return data, data_index\n",
        "\n",
        "def reindex_data(data, data_index, fields=None):\n",
        "    if fields is None:\n",
        "        fields = data_index.keys()\n",
        "    if isinstance(fields, str): # handle single field provided as a string\n",
        "        fields = [fields]\n",
        "    for field in fields:\n",
        "        entity_name = data_index[field].name\n",
        "        new_index = data_index[field].get_indexer(data[entity_name])\n",
        "        data = data.assign(**{f'{entity_name}': new_index}) # makes a copy of dataset!\n",
        "    return data"
      ],
      "metadata": {
        "id": "6itZRev9be48"
      },
      "execution_count": null,
      "outputs": []
    },
    {
      "cell_type": "code",
      "source": [
        "def downvote_seen_items(scores, data, data_description):\n",
        "    assert isinstance(scores, np.ndarray), 'Scores must be a dense numpy array!'\n",
        "    itemid = data_description['items']\n",
        "    userid = data_description['users']\n",
        "    row_idx, test_users = pd.factorize(data[userid], sort=True)\n",
        "    assert len(test_users) == scores.shape[0]\n",
        "    col_idx = data[itemid].values\n",
        "    scores[row_idx, col_idx] = scores.min() - 1\n",
        "\n",
        "def topn_recommendations(scores, topn=10):\n",
        "    recommendations = np.apply_along_axis(topidx, 1, scores, topn)\n",
        "    return recommendations\n",
        "\n",
        "def topidx(a, topn):\n",
        "    parted = np.argpartition(a, -topn)[-topn:]\n",
        "    return parted[np.argsort(-a[parted])]\n"
      ],
      "metadata": {
        "id": "zvch8XCMcL8r"
      },
      "execution_count": null,
      "outputs": []
    },
    {
      "cell_type": "code",
      "source": [
        "def generate_interactions_matrix(data, data_description, rebase_users=False):\n",
        "    '''\n",
        "    Convert pandas dataframe with interactions into a sparse matrix.\n",
        "    Allows reindexing user ids, which help ensure data consistency\n",
        "    at the scoring stage (assumes user ids are sorted in scoring array).\n",
        "    '''\n",
        "    n_users = data_description['n_users']\n",
        "    n_items = data_description['n_items']\n",
        "    # get indices of observed data\n",
        "    user_idx = data[data_description['users']].values\n",
        "    if rebase_users:\n",
        "        user_idx, user_index = pd.factorize(user_idx, sort=True)\n",
        "        n_users = len(user_index)\n",
        "    item_idx = data[data_description['items']].values\n",
        "    feedback = data[data_description['feedback']].values\n",
        "    # construct rating matrix\n",
        "    return csr_matrix((feedback, (user_idx, item_idx)), shape=(n_users, n_items))"
      ],
      "metadata": {
        "id": "q047oCthchHY"
      },
      "execution_count": null,
      "outputs": []
    },
    {
      "cell_type": "markdown",
      "source": [
        "## Getting data"
      ],
      "metadata": {
        "id": "PbXWUC4Ic3Ue"
      }
    },
    {
      "cell_type": "code",
      "source": [
        "with zipfile.ZipFile(\"skoltech-recommender-systems-challenge-2023.zip\",\"r\") as z:\n",
        "    z.extractall(\".\")\n",
        "\n",
        "training_source = pd.read_csv('training')\n",
        "\n",
        "testset_source = pd.read_csv('testset')"
      ],
      "metadata": {
        "id": "WjlqX5jOc-c8"
      },
      "execution_count": null,
      "outputs": []
    },
    {
      "cell_type": "markdown",
      "metadata": {
        "id": "8M8qs5IDxu_I"
      },
      "source": [
        "# Convenience functions"
      ]
    },
    {
      "cell_type": "code",
      "execution_count": null,
      "metadata": {
        "id": "VrNsOygtxu_J"
      },
      "outputs": [],
      "source": [
        "def plot_monthly_activity(data, ax=None, label=None, timeid='timestamp'):\n",
        "    return (data\n",
        "        .set_index(pd.to_datetime(data[timeid], unit='s'))\n",
        "        .resample('M').size()\n",
        "        .plot(ax=ax, logy=True, label=label, xlabel='Month',\n",
        "              title='Monthly rating activity', legend=label is not None)\n",
        "    )"
      ]
    },
    {
      "cell_type": "markdown",
      "metadata": {
        "id": "sZDgR22Axu_J"
      },
      "source": [
        "## data splitting"
      ]
    },
    {
      "cell_type": "code",
      "execution_count": null,
      "metadata": {
        "id": "lSLavkPGxu_J"
      },
      "outputs": [],
      "source": [
        "def timepoint_split(data, time_split_q=0.95):\n",
        "    \"\"\"\n",
        "    Split data into training, testset, and holdout datasets based on a timepoint split\n",
        "    and according to the `warm-start` evaluation strategy.\n",
        "\n",
        "    Parameters\n",
        "    ----------\n",
        "    data : pd.DataFrame\n",
        "        The input dataset containing columns `userid`, `movieid`, and `timestamp`.\n",
        "    time_split_q : float, optional\n",
        "        The quantile value used to split the dataset based on the `timestamp` column.\n",
        "        Default is 0.95.\n",
        "\n",
        "    Returns\n",
        "    -------\n",
        "    Tuple[pd.DataFrame, pd.DataFrame, pd.DataFrame]\n",
        "        A tuple of three pandas DataFrames: training, testset, and holdout.\n",
        "        `training` is a subset of `data` used for training the recommender system.\n",
        "        `testset` is a subset of `data` used for generating recommendations for the test users.\n",
        "        `holdout` is a subset excluded from `testset` containing only the most recent interactions for each test user.\n",
        "\n",
        "    Notes\n",
        "    -----\n",
        "    The function splits the input `data` into three subsets: `training`, `testset`, and `holdout`.\n",
        "    The split is performed based on the `timestamp` column of `data`, using `time_split_q` as the quantile value.\n",
        "    The `holdout` dataset contains only the immediate interactions following the fixed timepoint for each test user from the `testset`.\n",
        "    The set of users in `training` is disjoint with the set of users in the `testset`, which implements the `warm-start` scenario.\n",
        "    \"\"\"    \n",
        "    timepoint = data.timestamp.quantile(q=time_split_q, interpolation='nearest')\n",
        "    test_ = data.query('timestamp >= @timepoint')\n",
        "    rest_ = data.drop(test_.index)\n",
        "    holdout_ = (\n",
        "        test_\n",
        "        .sort_values('timestamp')\n",
        "        .drop_duplicates(subset=['userid'], keep='first')\n",
        "    )\n",
        "    # the holdout dataframe contains interactions closest to certain timepoint from the right,\n",
        "    # i.e., the corresponding items are the first in each test user profile after this timepoint\n",
        "    training = rest_.query('userid not in @holdout_.userid')\n",
        "    train_items = training.movieid.unique()\n",
        "    testset_ = rest_.query('userid in @holdout_.userid and movieid in @train_items')\n",
        "    test_users = testset_.userid.unique()\n",
        "    holdout = holdout_.query(\n",
        "        # if user is not in `test_users` then no evluation is possible,\n",
        "        # if item is not in `train_items` it's cold start -> must be excluded\n",
        "        'userid in @test_users and movieid in @train_items'\n",
        "    ).sort_values('userid')\n",
        "    testset = testset_.query(\n",
        "        # make sure testset and holdout contain the same set of users\n",
        "        'userid in @holdout.userid'\n",
        "    ).sort_values('userid')\n",
        "    return training, testset, holdout"
      ]
    },
    {
      "cell_type": "markdown",
      "metadata": {
        "id": "1u9IqNJmxu_K"
      },
      "source": [
        "## kaggle solution format"
      ]
    },
    {
      "cell_type": "code",
      "execution_count": null,
      "metadata": {
        "id": "sFgHbOkcxu_L"
      },
      "outputs": [],
      "source": [
        "def save_solution(recs_array, useridx, itemidx, filepath):\n",
        "    \"\"\"\n",
        "    Save a solution for Kaggle competition in the required format.\n",
        "\n",
        "    Parameters \n",
        "    ----------\n",
        "    recs_array (numpy.ndarray): Array of recommended items. \n",
        "    useridx (pandas.Index): Test user indices in the original (source) representation. \n",
        "    itemidx (pandas.Index): Mapping from internal to orignial representation of item indices. \n",
        "    filepath (str): Path to save the solution file. \n",
        "\n",
        "    Returns\n",
        "    -------\n",
        "    None: The function saves the solution file in the csv format at the specified path. \n",
        "\n",
        "    Notes\n",
        "    -----\n",
        "    The code creates a dataframe containing user IDs and a list of recommended items for each user.\n",
        "    It then melts the dataframe so that each row contains one recommended item per user.\n",
        "    Finally, it saves the melted dataframe to a file at the specified filepath.\n",
        "    \"\"\"\n",
        "    rec_items = itemidx.take(recs_array).values\n",
        "    solution = pd.DataFrame({\n",
        "        'userid': useridx,\n",
        "        'movieid': [list(recs) for recs in rec_items]\n",
        "    })\n",
        "    sol_melt = solution.set_index('userid')['movieid'].explode().reset_index()\n",
        "    sol_melt.to_csv(filepath, index=False)"
      ]
    },
    {
      "cell_type": "code",
      "source": [],
      "metadata": {
        "id": "jgUcRNjEhSqD"
      },
      "execution_count": null,
      "outputs": []
    },
    {
      "cell_type": "markdown",
      "metadata": {
        "id": "WfqPoP4bxu_M"
      },
      "source": [
        "# Evaluation setup"
      ]
    },
    {
      "cell_type": "code",
      "execution_count": null,
      "metadata": {
        "id": "eKhBUDgwxu_M"
      },
      "outputs": [],
      "source": [
        "topn = 20"
      ]
    },
    {
      "cell_type": "code",
      "execution_count": null,
      "metadata": {
        "id": "2e5bOv5Qxu_M"
      },
      "outputs": [],
      "source": [
        "def evaluate(recommended_items, holdout, holdout_description, topn=10):\n",
        "    itemid = holdout_description['items']\n",
        "    holdout_items = holdout[itemid].values\n",
        "    assert recommended_items.shape[0] == len(holdout_items)\n",
        "    hits_mask = recommended_items[:, :topn] == holdout_items.reshape(-1, 1)\n",
        "    \n",
        "    # MRR calculation\n",
        "    n_test_users = recommended_items.shape[0]\n",
        "    hit_rank = np.where(hits_mask)[1] + 1.0\n",
        "    \n",
        "    ndcg_pu = 1.0 / np.log2(hit_rank + 1)\n",
        "    \n",
        "    ndcg = np.sum(ndcg_pu) / n_test_users\n",
        "    \n",
        "    return ndcg"
      ]
    },
    {
      "cell_type": "code",
      "execution_count": null,
      "metadata": {
        "id": "iqPldFFHxu_N"
      },
      "outputs": [],
      "source": [
        "# val data\n",
        "train_val_, test_val_, holdout_val_ = timepoint_split(training_source, time_split_q=0.96)"
      ]
    },
    {
      "cell_type": "code",
      "execution_count": null,
      "metadata": {
        "id": "4-zE9E78xu_N"
      },
      "outputs": [],
      "source": [
        "train_val, data_index =  transform_indices(train_val_, 'userid', 'movieid')\n",
        "test_val = reindex_data(test_val_, data_index, fields='items')\n",
        "holdout_val = reindex_data(holdout_val_, data_index, fields='items')"
      ]
    },
    {
      "cell_type": "markdown",
      "metadata": {
        "id": "Dygz4Uesxu_O"
      },
      "source": [
        "### grid-search"
      ]
    },
    {
      "cell_type": "code",
      "execution_count": null,
      "metadata": {
        "colab": {
          "base_uri": "https://localhost:8080/"
        },
        "id": "fuAQSR45xu_O",
        "outputId": "4f656906-4f53-4b1d-c778-d6133385d1a0"
      },
      "outputs": [
        {
          "output_type": "execute_result",
          "data": {
            "text/plain": [
              "[280,\n",
              " 290,\n",
              " 300,\n",
              " 310,\n",
              " 320,\n",
              " 330,\n",
              " 340,\n",
              " 350,\n",
              " 360,\n",
              " 370,\n",
              " 380,\n",
              " 390,\n",
              " 400,\n",
              " 410,\n",
              " 420,\n",
              " 430,\n",
              " 440,\n",
              " 450,\n",
              " 460,\n",
              " 470,\n",
              " 480,\n",
              " 490]"
            ]
          },
          "metadata": {},
          "execution_count": 26
        }
      ],
      "source": [
        "ranks = [x for x in range(280, 500, 10)]\n",
        "ranks"
      ]
    },
    {
      "cell_type": "code",
      "execution_count": null,
      "metadata": {
        "id": "J7s4ab1yxu_P"
      },
      "outputs": [],
      "source": [
        "data_description = dict(\n",
        "    users = data_index['users'].name,\n",
        "    items = data_index['items'].name,\n",
        "    feedback = 'rating',\n",
        "    n_users = len(data_index['users']),\n",
        "    n_items = len(data_index['items']),\n",
        ")"
      ]
    },
    {
      "cell_type": "code",
      "execution_count": null,
      "metadata": {
        "id": "EAXBYr56xu_Q"
      },
      "outputs": [],
      "source": [
        "def transform_data(train, test, holdout=None, userid='userid', itemid='movieid'):\n",
        "    train_new, data_index = transform_indices(train, 'userid', 'movieid')\n",
        "    testset_new = reindex_data(test, data_index, fields='items')\n",
        "    if holdout is None:\n",
        "        return train_new, testset_new, data_index\n",
        "    holdout_new = reindex_data(holdout, data_index, fields='items')\n",
        "    \n",
        "    return train_new, testset_new, holdout_new, data_index"
      ]
    },
    {
      "cell_type": "code",
      "execution_count": null,
      "metadata": {
        "id": "Z9-4-bPTxu_R"
      },
      "outputs": [],
      "source": [
        "training, testset, data_index_source = transform_data(training_source, testset_source)"
      ]
    },
    {
      "cell_type": "code",
      "execution_count": null,
      "metadata": {
        "id": "XrV_HYdAxu_R"
      },
      "outputs": [],
      "source": [
        "data_description_source = dict(\n",
        "    users = data_index_source['users'].name,\n",
        "    items = data_index_source['items'].name,\n",
        "    feedback = 'rating',\n",
        "    n_users = len(data_index_source['users']),\n",
        "    n_items = len(data_index_source['items']),\n",
        ")"
      ]
    },
    {
      "cell_type": "code",
      "execution_count": null,
      "metadata": {
        "id": "vSQn-83Wxu_U"
      },
      "outputs": [],
      "source": [
        "scalings = [0.4]"
      ]
    },
    {
      "cell_type": "code",
      "execution_count": null,
      "metadata": {
        "id": "eYRY9t53xu_U"
      },
      "outputs": [],
      "source": [
        "def ssvd_grid_search(ranks, scalings, training, testset, holdout, data_description, topn=20):\n",
        "    max_rank = max(ranks)\n",
        "    config = {'rank': max_rank}\n",
        "    results = {}\n",
        "    \n",
        "    for scaling in tqdm(scalings):\n",
        "        config['scaling'] = scaling\n",
        "        item_factors, *rest = build_ssvd_model(config, training, data_description)\n",
        "        for rank in ranks:\n",
        "            item_factors_trunc = item_factors[:, :rank]\n",
        "            new_params = (item_factors_trunc,)+tuple(rest)\n",
        "            scores = ssvd_model_scoring(new_params, testset, data_description)\n",
        "            recs = topn_recommendations(scores, topn=topn)\n",
        "            results[(rank, scaling)] = evaluate(recs, holdout, data_description)\n",
        "    return results   \n",
        "\n",
        "def build_ssvd_model(config, data, data_description):\n",
        "    source_matrix = generate_interactions_matrix(data, data_description, rebase_users=False)\n",
        "    \n",
        "    scaled_matrix, scaling_weights = rescale_matrix(source_matrix, config['scaling'])\n",
        "    \n",
        "    *_, vt = svds(scaled_matrix, k=config['rank'], return_singular_vectors='vh')\n",
        "    item_factors = np.ascontiguousarray(vt[::-1, :].T)\n",
        "    return item_factors, scaling_weights\n",
        "\n",
        "def rescale_matrix(matrix, scaling_factor):\n",
        "    frequencies = matrix.getnnz(axis=0)\n",
        "    scaling_weights = np.power(frequencies, 0.5*(scaling_factor-1))\n",
        "    return matrix.dot(diags(scaling_weights)), scaling_weights\n",
        "\n",
        "def ssvd_model_scoring(params, data, data_description):\n",
        "    item_factors, scaling_weights = params\n",
        "    \n",
        "    test_matrix = generate_interactions_matrix(data, data_description, rebase_users=True)\n",
        "    scores = test_matrix.dot(item_factors) @ item_factors.T\n",
        "    \n",
        "    downvote_seen_items(scores, data, data_description)\n",
        "    return scores"
      ]
    },
    {
      "cell_type": "code",
      "execution_count": null,
      "metadata": {
        "colab": {
          "base_uri": "https://localhost:8080/"
        },
        "id": "j8EV2XHkxu_V",
        "outputId": "e7c95e94-7603-4a70-f5da-534390eb96c5"
      },
      "outputs": [
        {
          "output_type": "stream",
          "name": "stderr",
          "text": [
            "100%|██████████| 1/1 [03:11<00:00, 191.73s/it]\n"
          ]
        }
      ],
      "source": [
        "ssvd_results = ssvd_grid_search(ranks,scalings, train_val, test_val, holdout_val, data_description, topn=topn)"
      ]
    },
    {
      "cell_type": "code",
      "source": [
        "ssvd_results"
      ],
      "metadata": {
        "colab": {
          "base_uri": "https://localhost:8080/"
        },
        "id": "XeE8NcRl3Rwi",
        "outputId": "7318efb4-db7f-4930-d337-ebdbf31e6b59"
      },
      "execution_count": null,
      "outputs": [
        {
          "output_type": "execute_result",
          "data": {
            "text/plain": [
              "{(280, 0.4): 0.03126435592576477,\n",
              " (290, 0.4): 0.03063426236684947,\n",
              " (300, 0.4): 0.03184449900030405,\n",
              " (310, 0.4): 0.03118795731957869,\n",
              " (320, 0.4): 0.030812214939799788,\n",
              " (330, 0.4): 0.030973424342784106,\n",
              " (340, 0.4): 0.03267732793700011,\n",
              " (350, 0.4): 0.032255074492376704,\n",
              " (360, 0.4): 0.03174348744285209,\n",
              " (370, 0.4): 0.03187181946776137,\n",
              " (380, 0.4): 0.032350786993952614,\n",
              " (390, 0.4): 0.03152950875742519,\n",
              " (400, 0.4): 0.03153709622489915,\n",
              " (410, 0.4): 0.03155602844981899,\n",
              " (420, 0.4): 0.03186262198671304,\n",
              " (430, 0.4): 0.0310318437787933,\n",
              " (440, 0.4): 0.031270899170901444,\n",
              " (450, 0.4): 0.030877834281031934,\n",
              " (460, 0.4): 0.031023505611348406,\n",
              " (470, 0.4): 0.03021283043743318,\n",
              " (480, 0.4): 0.030259371396311716,\n",
              " (490, 0.4): 0.029098896480973226}"
            ]
          },
          "metadata": {},
          "execution_count": 56
        }
      ]
    },
    {
      "cell_type": "code",
      "execution_count": null,
      "metadata": {
        "id": "gsBKiPhUxu_V",
        "outputId": "1515f749-103b-423a-f4e4-96a5bc3bb2a8",
        "colab": {
          "base_uri": "https://localhost:8080/",
          "height": 569
        }
      },
      "outputs": [
        {
          "output_type": "error",
          "ename": "ValueError",
          "evalue": "ignored",
          "traceback": [
            "\u001b[0;31m---------------------------------------------------------------------------\u001b[0m",
            "\u001b[0;31mValueError\u001b[0m                                Traceback (most recent call last)",
            "\u001b[0;32m<ipython-input-35-e11f3cf6be73>\u001b[0m in \u001b[0;36m<module>\u001b[0;34m\u001b[0m\n\u001b[1;32m      2\u001b[0m \u001b[0;34m\u001b[0m\u001b[0m\n\u001b[1;32m      3\u001b[0m \u001b[0max\u001b[0m \u001b[0;34m=\u001b[0m \u001b[0mpd\u001b[0m\u001b[0;34m.\u001b[0m\u001b[0mSeries\u001b[0m\u001b[0;34m(\u001b[0m\u001b[0mssvd_results\u001b[0m\u001b[0;34m)\u001b[0m\u001b[0;34m.\u001b[0m\u001b[0mplot\u001b[0m\u001b[0;34m(\u001b[0m\u001b[0;34m)\u001b[0m\u001b[0;34m\u001b[0m\u001b[0;34m\u001b[0m\u001b[0m\n\u001b[0;32m----> 4\u001b[0;31m \u001b[0max\u001b[0m\u001b[0;34m.\u001b[0m\u001b[0maxvline\u001b[0m\u001b[0;34m(\u001b[0m\u001b[0mbest_ssvd_rank\u001b[0m\u001b[0;34m)\u001b[0m\u001b[0;34m\u001b[0m\u001b[0;34m\u001b[0m\u001b[0m\n\u001b[0m",
            "\u001b[0;32m/usr/local/lib/python3.9/dist-packages/matplotlib/axes/_axes.py\u001b[0m in \u001b[0;36maxvline\u001b[0;34m(self, x, ymin, ymax, **kwargs)\u001b[0m\n\u001b[1;32m    835\u001b[0m         \u001b[0;31m# Strip away the units for comparison with non-unitized bounds.\u001b[0m\u001b[0;34m\u001b[0m\u001b[0;34m\u001b[0m\u001b[0m\n\u001b[1;32m    836\u001b[0m         \u001b[0mxx\u001b[0m\u001b[0;34m,\u001b[0m \u001b[0;34m=\u001b[0m \u001b[0mself\u001b[0m\u001b[0;34m.\u001b[0m\u001b[0m_process_unit_info\u001b[0m\u001b[0;34m(\u001b[0m\u001b[0;34m[\u001b[0m\u001b[0;34m(\u001b[0m\u001b[0;34m\"x\"\u001b[0m\u001b[0;34m,\u001b[0m \u001b[0mx\u001b[0m\u001b[0;34m)\u001b[0m\u001b[0;34m]\u001b[0m\u001b[0;34m,\u001b[0m \u001b[0mkwargs\u001b[0m\u001b[0;34m)\u001b[0m\u001b[0;34m\u001b[0m\u001b[0;34m\u001b[0m\u001b[0m\n\u001b[0;32m--> 837\u001b[0;31m         \u001b[0mscalex\u001b[0m \u001b[0;34m=\u001b[0m \u001b[0;34m(\u001b[0m\u001b[0mxx\u001b[0m \u001b[0;34m<\u001b[0m \u001b[0mxmin\u001b[0m\u001b[0;34m)\u001b[0m \u001b[0;32mor\u001b[0m \u001b[0;34m(\u001b[0m\u001b[0mxx\u001b[0m \u001b[0;34m>\u001b[0m \u001b[0mxmax\u001b[0m\u001b[0;34m)\u001b[0m\u001b[0;34m\u001b[0m\u001b[0;34m\u001b[0m\u001b[0m\n\u001b[0m\u001b[1;32m    838\u001b[0m \u001b[0;34m\u001b[0m\u001b[0m\n\u001b[1;32m    839\u001b[0m         \u001b[0mtrans\u001b[0m \u001b[0;34m=\u001b[0m \u001b[0mself\u001b[0m\u001b[0;34m.\u001b[0m\u001b[0mget_xaxis_transform\u001b[0m\u001b[0;34m(\u001b[0m\u001b[0mwhich\u001b[0m\u001b[0;34m=\u001b[0m\u001b[0;34m'grid'\u001b[0m\u001b[0;34m)\u001b[0m\u001b[0;34m\u001b[0m\u001b[0;34m\u001b[0m\u001b[0m\n",
            "\u001b[0;31mValueError\u001b[0m: The truth value of an array with more than one element is ambiguous. Use a.any() or a.all()"
          ]
        },
        {
          "output_type": "display_data",
          "data": {
            "text/plain": [
              "<Figure size 432x288 with 1 Axes>"
            ],
            "image/png": "[encoded data removed]"
          },
          "metadata": {
            "needs_background": "light"
          }
        }
      ],
      "source": [
        "ssvd_best_rank = pd.Series(ssvd_results).idxmax()\n",
        "\n",
        "ax = pd.Series(ssvd_results).plot()\n",
        "ax.axvline(ssvd_best_rank)"
      ]
    },
    {
      "cell_type": "markdown",
      "metadata": {
        "id": "5_R4H8Gpxu_W"
      },
      "source": [
        "### best model"
      ]
    },
    {
      "cell_type": "markdown",
      "source": [
        "### Explanation\n",
        "I tried to use many different params for grid search, and did many low ranged GSs around scaling=0.4 and rank 384 according to seminar results, since it is much easier to analyze the results on a plot that way. Since GS max score does not always gives objective result, I also checked many local maximums and got the best score at (420, 0.4). The second best result was obtained at (0.35, 525)"
      ],
      "metadata": {
        "id": "dNiE9U77AW0j"
      }
    },
    {
      "cell_type": "code",
      "source": [
        "config_gold = dict(\n",
        "    zip(\n",
        "    ['rank', 'scaling'], [420, 0.4]))"
      ],
      "metadata": {
        "id": "6-wWzNgh0RN4"
      },
      "execution_count": null,
      "outputs": []
    },
    {
      "cell_type": "code",
      "source": [
        "#config_gold = dict(\n",
        "#    zip(\n",
        "#    ['rank', 'scaling'],\n",
        "#    ssvd_best_rank))"
      ],
      "metadata": {
        "id": "nBpiti2e1T40"
      },
      "execution_count": null,
      "outputs": []
    },
    {
      "cell_type": "code",
      "execution_count": null,
      "metadata": {
        "id": "DhLPzVgQxu_W"
      },
      "outputs": [],
      "source": [
        "\n",
        "params_ssvd = build_ssvd_model(config_gold, training, data_description_source)\n",
        "scores_ssvd = ssvd_model_scoring(params_ssvd, testset, data_description_source)\n"
      ]
    },
    {
      "cell_type": "code",
      "source": [
        "config_gold"
      ],
      "metadata": {
        "colab": {
          "base_uri": "https://localhost:8080/"
        },
        "id": "mN6Iafe2v-Wc",
        "outputId": "cf980f33-d634-4410-884c-adb49f9694f8"
      },
      "execution_count": null,
      "outputs": [
        {
          "output_type": "execute_result",
          "data": {
            "text/plain": [
              "{'rank': 420, 'scaling': 0.4}"
            ]
          },
          "metadata": {},
          "execution_count": 66
        }
      ]
    },
    {
      "cell_type": "code",
      "execution_count": null,
      "metadata": {
        "id": "4RJRUc2qxu_X"
      },
      "outputs": [],
      "source": [
        "srecs = topn_recommendations(scores_ssvd, topn=topn)"
      ]
    },
    {
      "cell_type": "code",
      "execution_count": null,
      "metadata": {
        "id": "VWe77l9Nxu_X",
        "outputId": "4d3ec856-d6bd-462a-8ebd-39afceeabc33",
        "colab": {
          "base_uri": "https://localhost:8080/"
        }
      },
      "outputs": [
        {
          "output_type": "execute_result",
          "data": {
            "text/plain": [
              "array([[ 194,  222,  755, ..., 1291,  529,  972],\n",
              "       [ 981, 1361,  174, ...,  756,  326,  610],\n",
              "       [  62,  163,  376, ..., 5333,   54,  578],\n",
              "       ...,\n",
              "       [ 780,  958,  981, ..., 1240,  967,  279],\n",
              "       [ 981,  983, 1080, ..., 1528, 1085, 1093],\n",
              "       [ 671,  955,  667, ...,  374, 2366,   54]])"
            ]
          },
          "metadata": {},
          "execution_count": 68
        }
      ],
      "source": [
        "srecs"
      ]
    },
    {
      "cell_type": "code",
      "execution_count": null,
      "metadata": {
        "id": "3mdSFvkJxu_X",
        "colab": {
          "base_uri": "https://localhost:8080/"
        },
        "outputId": "78c7b53c-5cad-4cf4-b56d-aa35b576939b"
      },
      "outputs": [
        {
          "output_type": "execute_result",
          "data": {
            "text/plain": [
              "pandas.core.series.Series"
            ]
          },
          "metadata": {},
          "execution_count": 61
        }
      ],
      "source": [
        "(\n",
        "    pd.Series\n",
        "\n",
        ")"
      ]
    },
    {
      "cell_type": "code",
      "execution_count": null,
      "metadata": {
        "id": "GbuBve04xu_X"
      },
      "outputs": [],
      "source": [
        "test_user_indices = pd.Index(testset_source['userid']).drop_duplicates()\n",
        "ssvd_sol_filepath = 'ssvd_recs.csv'\n",
        "save_solution(srecs, test_user_indices, data_index_source['items'], ssvd_sol_filepath)"
      ]
    },
    {
      "cell_type": "code",
      "source": [],
      "metadata": {
        "id": "92cf7r1RweHr"
      },
      "execution_count": null,
      "outputs": []
    }
  ]
}